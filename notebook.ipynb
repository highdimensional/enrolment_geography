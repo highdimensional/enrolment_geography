{
 "cells": [
  {
   "cell_type": "markdown",
   "id": "9fbf2e25",
   "metadata": {},
   "source": [
    "#### Load imports"
   ]
  },
  {
   "cell_type": "code",
   "execution_count": null,
   "id": "139e0028",
   "metadata": {},
   "outputs": [],
   "source": [
    "import os\n",
    "import datetime\n",
    "import time\n",
    "import math\n",
    "import numpy as np\n",
    "import pandas as pd\n",
    "import geopandas as gpd\n",
    "from types import SimpleNamespace\n",
    "import re\n",
    "import matlab\n",
    "import altair as alt\n",
    "\n",
    "from enrolment_geography import *"
   ]
  },
  {
   "cell_type": "markdown",
   "id": "f927f04e",
   "metadata": {},
   "source": [
    "#### Define directories"
   ]
  },
  {
   "cell_type": "code",
   "execution_count": null,
   "id": "68293330",
   "metadata": {},
   "outputs": [],
   "source": [
    "data_dir = os.path.join(os.getcwd(), 'data')\n",
    "data_dir"
   ]
  },
  {
   "cell_type": "code",
   "execution_count": null,
   "id": "899c1fb1",
   "metadata": {},
   "outputs": [],
   "source": [
    "output_dir = os.path.join(os.getcwd(), 'output')\n",
    "output_dir = create_output_directory(output_dir)\n",
    "output_dir"
   ]
  },
  {
   "cell_type": "code",
   "execution_count": null,
   "id": "ce20e923",
   "metadata": {},
   "outputs": [],
   "source": [
    "engine = matlab.engine.start_matlab('-desktop')"
   ]
  },
  {
   "cell_type": "code",
   "execution_count": null,
   "id": "ce4719f2",
   "metadata": {},
   "outputs": [],
   "source": [
    "postcodes = load_postcodes(os.path.join(data_dir, \"postcodes_multi_csv\"))"
   ]
  },
  {
   "cell_type": "markdown",
   "id": "9383983c",
   "metadata": {},
   "source": [
    "#### Read Enrolments Data:\n",
    "Postcode, Study Code, Study Name"
   ]
  },
  {
   "cell_type": "code",
   "execution_count": null,
   "id": "021e1ba1",
   "metadata": {},
   "outputs": [],
   "source": [
    "enrolments = pd.read_excel(os.path.join(data_dir, \"enrolments.xlsx\"))\n",
    "\n",
    "enrolment_stats = SimpleNamespace()\n",
    "enrolment_stats.n_input = enrolments.shape[0]\n",
    "\n",
    "enrolment_locations, enrolment_loc_stats = postcodes.lookup_postcodes(\n",
    "    enrolments['Postcode'], \n",
    "    lsoa_field='Boundary Code',\n",
    "    wgs84_fields=None)\n",
    "\n",
    "enrolment_stats.n_with_postcodes = \\\n",
    "    enrolment_stats.n_input \\\n",
    "    - enrolment_loc_stats.n_missing_postcodes \\\n",
    "    - enrolment_loc_stats.n_non_geographic_postcodes \\\n",
    "    - enrolment_loc_stats.n_unknown_postcodes\n",
    "\n",
    "enrolments = pd.concat((enrolments.drop(columns=['Postcode']), \n",
    "                        enrolment_locations),\n",
    "                        axis=1)\n",
    "\n",
    "print(\"\\n\".join(enrolments.columns))\n",
    "print(\"Missing study names: {:d}\".format((enrolments['Study Name'].isnull() | (enrolments['Study Name'] == '')).sum()))\n",
    "enrolments.shape"
   ]
  },
  {
   "cell_type": "markdown",
   "id": "9c38f5a3",
   "metadata": {},
   "source": [
    "#### Map enrolment specialities"
   ]
  },
  {
   "cell_type": "code",
   "execution_count": null,
   "id": "f349beea",
   "metadata": {},
   "outputs": [],
   "source": [
    "enrolment_specialities = pd.read_excel(os.path.join(data_dir, \"specialities.xlsx\"))\n",
    "enrolment_specialities = enrolment_specialities.drop(columns=['URL'])\n",
    "enrolment_specialities['Speciality'].fillna('???', inplace=True)\n",
    "unique_specialities = enrolment_specialities.loc[:, 'Speciality'].unique()\n",
    "print(\"\\n\".join(unique_specialities))"
   ]
  },
  {
   "cell_type": "code",
   "execution_count": null,
   "id": "5ccedf1c",
   "metadata": {},
   "outputs": [],
   "source": [
    "enrolments = enrolments.merge(enrolment_specialities, how='left', on='Study Name')\n",
    "enrolments = enrolments.reindex(columns=[col for col in enrolments.columns if col != \"Boundary Code\"] + [\"Boundary Code\"])\n",
    "print(\"\\n\".join(enrolments.columns))\n",
    "enrolments.shape"
   ]
  },
  {
   "cell_type": "code",
   "execution_count": null,
   "id": "687e1882",
   "metadata": {},
   "outputs": [],
   "source": [
    "enrolments['Study Name'].unique().shape"
   ]
  },
  {
   "cell_type": "code",
   "execution_count": null,
   "id": "0b611d11",
   "metadata": {},
   "outputs": [],
   "source": [
    "enrolments_by_speciality = enrolments.groupby('Speciality')\n",
    "enrolment_stats.n_with_speciality = enrolments_by_speciality.size().sum()"
   ]
  },
  {
   "cell_type": "code",
   "execution_count": null,
   "id": "7aba5046",
   "metadata": {},
   "outputs": [],
   "source": [
    "enrolments_by_speciality.size().sum()"
   ]
  },
  {
   "cell_type": "code",
   "execution_count": null,
   "id": "47cc28b6",
   "metadata": {},
   "outputs": [],
   "source": [
    "assert enrolment_stats.n_input == enrolment_stats.n_with_speciality, \"Enrolments with missing speciality\""
   ]
  },
  {
   "cell_type": "markdown",
   "id": "90034173",
   "metadata": {},
   "source": [
    "#### Load Census Geometry"
   ]
  },
  {
   "cell_type": "code",
   "execution_count": null,
   "id": "f77f1f35",
   "metadata": {},
   "outputs": [],
   "source": [
    "lsoa_polygons = gpd.read_file(os.path.join(data_dir, \"lsoa_boundaries/Lower_Layer_Super_Output_Areas_December_2011_Boundaries_EW_BGC.shp\"))\n",
    "lsoa_polygons = lsoa_polygons.to_crs('EPSG:27700')\n",
    "lsoa_polygons.rename(columns={'LSOA11CD': 'Boundary Code', 'LSOA11NM': 'Boundary Name', 'geometry': \"Boundary Polygon\"}, inplace=True)\n",
    "lsoa_polygons = lsoa_polygons.drop(columns=['Age_Indica', 'Shape__Are', 'Shape__Len', 'LSOA11NMW', 'FID'])\n",
    "lsoa_polygons.insert(len(lsoa_polygons.columns), 'Boundary Centroid', lsoa_polygons['Boundary Polygon'].centroid)\n",
    "print(\"\\n\".join(lsoa_polygons.columns))\n",
    "lsoa_polygons.shape"
   ]
  },
  {
   "cell_type": "code",
   "execution_count": null,
   "id": "bcf60242",
   "metadata": {},
   "outputs": [],
   "source": [
    "assert lsoa_polygons['Boundary Code'].nunique() == lsoa_polygons.shape[0], \"Polygon data does not contain unique boundary codes\""
   ]
  },
  {
   "cell_type": "code",
   "execution_count": null,
   "id": "d7536f89",
   "metadata": {},
   "outputs": [],
   "source": [
    "lsoa_m25_polygons = gpd.read_file(os.path.join(data_dir, \"m25_lsoa11.gpkg\"))\n",
    "lsoa_m25_polygons = lsoa_m25_polygons.to_crs('EPSG:27700')\n",
    "lsoa_m25_polygons.rename(columns={'LSOA11CD': 'Boundary Code', 'LSOA11NM': 'Boundary Name'}, inplace=True)\n",
    "lsoa_m25_polygons = lsoa_m25_polygons.drop(columns=['Age_Indica', 'Shape__Are', 'Shape__Len', 'LSOA11NMW', 'geometry'])\n",
    "print(\"\\n\".join(lsoa_m25_polygons.columns))\n",
    "lsoa_m25_polygons.shape"
   ]
  },
  {
   "cell_type": "markdown",
   "id": "032b5eb2",
   "metadata": {},
   "source": [
    "#### Load Deprivation data for Census Geometry"
   ]
  },
  {
   "cell_type": "code",
   "execution_count": null,
   "id": "fbf0a0ac",
   "metadata": {},
   "outputs": [],
   "source": [
    "lsoa_deprivation = pd.read_csv(os.path.join(data_dir, \"imd2019lsoa_scores.csv\"))\n",
    "lsoa_deprivation = lsoa_deprivation.drop(columns=[col for col in lsoa_deprivation.columns if len(lsoa_deprivation[col].unique()) <= 1])\n",
    "lsoa_deprivation.rename(columns={'LSOA11': 'Boundary Code', 'Reference area': 'Boundary Name'}, inplace=True)\n",
    "\n",
    "deprivation_indices = lsoa_deprivation.columns[2:]\n",
    "print(\"\\n\".join(lsoa_deprivation.columns))\n",
    "lsoa_deprivation.shape"
   ]
  },
  {
   "cell_type": "markdown",
   "id": "b3c535b5",
   "metadata": {},
   "source": [
    "#### Load population densities"
   ]
  },
  {
   "cell_type": "code",
   "execution_count": null,
   "id": "d7e630df",
   "metadata": {
    "scrolled": true
   },
   "outputs": [],
   "source": [
    "lsoa_densities = pd.read_excel(os.path.join(data_dir, \"SAPE22DT11-mid-2019-lsoa-population-density.xlsx\"), header=4, sheet_name=3)\n",
    "lsoa_densities = lsoa_densities.drop(columns=[col for col in lsoa_densities.columns if len(lsoa_densities[col].unique()) <= 1])\n",
    "lsoa_densities.rename(columns={'LSOA Code': 'Boundary Code', 'LSOA Name': 'Boundary Name', 'Mid-2019 population': 'N Population', 'Area Sq Km': 'Area km^2', 'People per Sq Km': 'Population per km^2'}, inplace=True)\n",
    "print(\"\\n\".join(lsoa_densities.columns))\n",
    "lsoa_densities.shape"
   ]
  },
  {
   "cell_type": "code",
   "execution_count": null,
   "id": "df742f17",
   "metadata": {},
   "outputs": [],
   "source": [
    "def compute_min_distance_from(location, gp_prev):\n",
    "\n",
    "    min_distance = None\n",
    "    min_distance_index = None\n",
    "\n",
    "    for index in range(gp_prev.shape[0]):\n",
    "\n",
    "        gp_centroid = gp_prev[\"Boundary Centroid\"][index]\n",
    "\n",
    "        distance = location.distance(gp_centroid)\n",
    "\n",
    "        if min_distance is None or min_distance > distance:\n",
    "            min_distance = distance\n",
    "            min_distance_index = index\n",
    "    \n",
    "    return min_distance, min_distance_index\n",
    "    \n",
    "def impute_missing_lsoas(gp_prev, boundaries):\n",
    "    \n",
    "    gp_prev = gp_prev.sample(frac=1, random_state=0xFBEB6693).reset_index(drop=True)\n",
    "    gp_prev['Boundary Centroid'] = gpd.GeoSeries.from_wkt(gp_prev['Boundary Centroid'])\n",
    "    gp_prev = gpd.GeoDataFrame(gp_prev, geometry='Boundary Centroid', crs='EPSG:27700')\n",
    "    \n",
    "    imputed_gp_prev = []\n",
    "    gp_prev_lsoas = gp_prev.groupby('Boundary Code')\n",
    "    \n",
    "    match_count = 0\n",
    "    \n",
    "    for index, code in enumerate(boundaries['Boundary Code']):\n",
    "        \n",
    "        # print(f\"[{index:d}]: {code}\")\n",
    "        \n",
    "        indices = gp_prev_lsoas.indices.get(code, None)\n",
    "        \n",
    "        if indices is None:\n",
    "            indices = list()\n",
    "        else:\n",
    "            indices = indices.tolist()\n",
    "        \n",
    "        assert len(indices) < 2, \"Expecting at most one row per boundary code in gp_prev.\"\n",
    "        \n",
    "        # For some reason if indices: evaluates to False for exactly one list instance with length 1?!?\n",
    "        \n",
    "        if len(indices) != 0:\n",
    "            match_count += 1\n",
    "            \n",
    "            gp_prev_row = gp_prev.iloc[indices[0], :]\n",
    "            gp_code = gp_prev_row['Boundary Code']\n",
    "            assert gp_code == code, f\"Boundary code does not match its index: {gp_code} != {code}\"\n",
    "            \n",
    "            continue\n",
    "        \n",
    "        centroid = boundaries.at[index, 'Boundary Centroid']\n",
    "        \n",
    "        _, min_distance_index = compute_min_distance_from(centroid, gp_prev)\n",
    "        \n",
    "        matched_row = gp_prev.iloc[min_distance_index, :].to_dict()\n",
    "        matched_row['Boundary Code'] = code\n",
    "        matched_row['Boundary Centroid'] = centroid\n",
    "        \n",
    "        imputed_gp_prev.append(matched_row)\n",
    "    \n",
    "    print(f\"Match count = {match_count:d}\")\n",
    "    \n",
    "    imputed_gp_prev = pd.DataFrame(imputed_gp_prev)\n",
    "    \n",
    "    result = pd.concat((gp_prev, imputed_gp_prev), ignore_index=True)\n",
    "    \n",
    "    assert len(result.groupby('Boundary Code')) == result.shape[0], \"Result gp_prev contains duplicate boundary codes.\"\n",
    "\n",
    "    return result\n"
   ]
  },
  {
   "cell_type": "markdown",
   "id": "1e36cf6b",
   "metadata": {},
   "source": [
    "#### Map Quality Outcomes Framework Data"
   ]
  },
  {
   "cell_type": "code",
   "execution_count": null,
   "id": "17c54ddc",
   "metadata": {},
   "outputs": [],
   "source": [
    "use_cached_gp_prev = False # Enable caching of data if it already has been pre-computed"
   ]
  },
  {
   "cell_type": "code",
   "execution_count": null,
   "id": "c659ab8c",
   "metadata": {},
   "outputs": [],
   "source": [
    "if not use_cached_gp_prev:\n",
    "    gp_prev = pd.read_csv(os.path.join(data_dir, \"qof_prevalence_2020.csv\"), index_col=0)\n",
    "    assert gp_prev['Boundary Code'].nunique() == gp_prev.shape[0], \"QOF data does not contain unique boundary codes\"\n",
    "    print(gp_prev.shape)\n",
    "    gp_prev.drop(columns=[col for col in gp_prev.columns if col.startswith(\"List Size\") or col.startswith(\"Register\") or col == \"Boundary Name\"], inplace=True)\n",
    "    gp_prev = impute_missing_lsoas(gp_prev, lsoa_polygons)\n",
    "    gp_prev.drop(columns=[\"OSGB36 Location\", \"Boundary Polygon\", \"Boundary Centroid\", \"Postcode\", \"Min Distance\"], inplace=True)\n",
    "    print(\"\\n\".join(gp_prev.columns))\n",
    "    print(gp_prev.shape)\n",
    "    assert gp_prev['Boundary Code'].nunique() == gp_prev.shape[0], \"QOF data does not contain unique boundary codes\"\n",
    "    gp_prev.to_csv(os.path.join(output_dir, \"gp_prev_interp.csv\"), index=True)"
   ]
  },
  {
   "cell_type": "code",
   "execution_count": null,
   "id": "3684acf9",
   "metadata": {},
   "outputs": [],
   "source": [
    "if use_cached_gp_prev:\n",
    "    gp_prev = pd.read_csv(os.path.join(data_dir, \"gp_prev_interp.csv\"), index_col=0)"
   ]
  },
  {
   "cell_type": "code",
   "execution_count": null,
   "id": "21465e11",
   "metadata": {},
   "outputs": [],
   "source": [
    "gp_prev.shape"
   ]
  },
  {
   "cell_type": "code",
   "execution_count": null,
   "id": "93bf2cae",
   "metadata": {},
   "outputs": [],
   "source": [
    "lsoa = lsoa_densities.merge(lsoa_deprivation.drop(columns=['Boundary Name']), how='inner', on='Boundary Code')\n",
    "lsoa = lsoa.merge(gp_prev, how='left', on='Boundary Code')\n",
    "# lsoa['Average Prevalence'] = 1.0\n",
    "lsoa_stats = SimpleNamespace()\n",
    "lsoa_stats.n_initial = lsoa.shape[0]"
   ]
  },
  {
   "cell_type": "code",
   "execution_count": null,
   "id": "af8cb943",
   "metadata": {
    "scrolled": true
   },
   "outputs": [],
   "source": [
    "# assert (lsoa.shape[0] - lsoa['Average Prevalence'].isnull().sum()) == gp_prev.shape[0], \"Not all QOF data matched by LOSAs.\""
   ]
  },
  {
   "cell_type": "code",
   "execution_count": null,
   "id": "631b4eaf",
   "metadata": {},
   "outputs": [],
   "source": [
    "# Expressses the prevalences relative to the LSOA population\n",
    "def adjust_prevalences(data, field='N Population', factor=10000.0):\n",
    "    \n",
    "    for column in list(data.columns):\n",
    "\n",
    "        if not column.endswith('Prevalence'):\n",
    "            continue\n",
    "        \n",
    "        data[column + \" per 10k\"] = np.floor(data[column] * data[field] * factor)\n",
    "    "
   ]
  },
  {
   "cell_type": "code",
   "execution_count": null,
   "id": "f235abd2",
   "metadata": {},
   "outputs": [],
   "source": [
    "adjust_prevalences(lsoa)\n",
    "\n",
    "print(\"\\n\".join(lsoa.columns))\n",
    "lsoa.shape"
   ]
  },
  {
   "cell_type": "markdown",
   "id": "686ce525",
   "metadata": {},
   "source": [
    "#### Compute Enrolment Stats"
   ]
  },
  {
   "cell_type": "code",
   "execution_count": null,
   "id": "81e386d6",
   "metadata": {},
   "outputs": [],
   "source": [
    "lsoa_enrolments = enrolments.merge(lsoa, how='inner', on='Boundary Code')"
   ]
  },
  {
   "cell_type": "code",
   "execution_count": null,
   "id": "d6cdcc0a",
   "metadata": {},
   "outputs": [],
   "source": [
    "enrolment_stats.n_with_lsoas = lsoa_enrolments.shape[0]"
   ]
  },
  {
   "cell_type": "code",
   "execution_count": null,
   "id": "3e987eed",
   "metadata": {
    "scrolled": true
   },
   "outputs": [],
   "source": [
    "if enrolment_stats.n_with_postcodes != enrolment_stats.n_with_lsoas:\n",
    "    enrolment_codes = set(enrolments['Boundary Code'])\n",
    "    lsoa_codes = set(lsoa['Boundary Code'])\n",
    "    missing_enrolment_codes = enrolment_codes.difference(lsoa_codes)\n",
    "    print(f\"{(lsoa_polygons['Boundary Code'].isin(missing_enrolment_codes)).sum():d}\")\n",
    "    print(f\"LSOA enrolments now contain {lsoa_enrolments.shape[0]:d} rows.\")\n",
    "    print(f\"Unresolved LSOAs in enrolments [{len(missing_enrolment_codes)}]:\")\n",
    "    print(missing_enrolment_codes)"
   ]
  },
  {
   "cell_type": "code",
   "execution_count": null,
   "id": "a4030271",
   "metadata": {},
   "outputs": [],
   "source": [
    "lsoa_enrolments_by_speciality = lsoa_enrolments[~(lsoa_enrolments['Boundary Code'].isnull() | lsoa_enrolments['Speciality'].isnull())].groupby('Speciality')\n",
    "lsoa_enrolments_by_speciality.size()"
   ]
  },
  {
   "cell_type": "code",
   "execution_count": null,
   "id": "78f092db",
   "metadata": {},
   "outputs": [],
   "source": [
    "lsoa_enrolment_study_counts = count_group_values(lsoa_enrolments, \n",
    "                                           'Study Name', 'N Participants')\n",
    "lsoa_enrolment_study_counts"
   ]
  },
  {
   "cell_type": "code",
   "execution_count": null,
   "id": "3dc8e3ac",
   "metadata": {},
   "outputs": [],
   "source": [
    "lsoa_enrolment_study_counts = lsoa_enrolment_study_counts.merge(enrolment_specialities, how='left', on='Study Name')\n",
    "lsoa_enrolment_study_counts"
   ]
  },
  {
   "cell_type": "code",
   "execution_count": null,
   "id": "345beed8",
   "metadata": {},
   "outputs": [],
   "source": [
    "lsoa_enrolment_studies = count_group_values(lsoa_enrolment_study_counts, \n",
    "                                           'Speciality', 'N Studies',\n",
    "                                            None,\n",
    "                                            [('Study Name', 'Study Name'), ('N Participants', 'N Participants')])"
   ]
  },
  {
   "cell_type": "code",
   "execution_count": null,
   "id": "82c1ce78",
   "metadata": {},
   "outputs": [],
   "source": [
    "lsoa_enrolment_studies['N Participants'] = lsoa_enrolment_studies.apply(\n",
    "    lambda row: np.array(row['N Participants']).sum(), \n",
    "    axis=1,\n",
    "    result_type=\"reduce\")\n",
    "lsoa_enrolment_studies"
   ]
  },
  {
   "cell_type": "code",
   "execution_count": null,
   "id": "0dff51db",
   "metadata": {},
   "outputs": [],
   "source": [
    "unique_studies = set(enrolments['Study Name'].unique())\n",
    "unique_studies_lsoa = set(lsoa_enrolments['Study Name'].unique())\n",
    "missing_studies = list(unique_studies.difference(unique_studies_lsoa))\n",
    "missing_studies"
   ]
  },
  {
   "cell_type": "code",
   "execution_count": null,
   "id": "e0da28db",
   "metadata": {},
   "outputs": [],
   "source": [
    "enrolments.loc[enrolments['Study Name'] == missing_studies[1], 'Boundary Code']"
   ]
  },
  {
   "cell_type": "markdown",
   "id": "3e5560b6",
   "metadata": {},
   "source": [
    "#### Compute participant and study counts per census area"
   ]
  },
  {
   "cell_type": "code",
   "execution_count": null,
   "id": "40051684",
   "metadata": {
    "scrolled": true
   },
   "outputs": [],
   "source": [
    "lsoa_enrolment_counts = count_group_values(lsoa_enrolments, \n",
    "                                           'Boundary Code', 'N Participants',\n",
    "                                           [('Study Name', 'N Studies')],\n",
    "                                           [('Speciality', 'Speciality')])\n",
    "lsoa_enrolment_counts"
   ]
  },
  {
   "cell_type": "code",
   "execution_count": null,
   "id": "2c637845",
   "metadata": {},
   "outputs": [],
   "source": [
    "assert lsoa_enrolment_counts['N Participants'].sum() == enrolment_stats.n_with_lsoas, \"N Participants sum does not match number of enrolments with LSOAs.\""
   ]
  },
  {
   "cell_type": "code",
   "execution_count": null,
   "id": "ac538ccc",
   "metadata": {},
   "outputs": [],
   "source": [
    "enrolment_stats"
   ]
  },
  {
   "cell_type": "markdown",
   "id": "29857ba6",
   "metadata": {},
   "source": [
    "#### Compute speciality indicators"
   ]
  },
  {
   "cell_type": "code",
   "execution_count": null,
   "id": "1c2d6e6b",
   "metadata": {},
   "outputs": [],
   "source": [
    "speciality_indicators = lsoa_enrolment_counts.apply(\n",
    "    lambda row: expand_indicators(row, \"Speciality\", unique_specialities, \"Speciality\"), \n",
    "    axis=1,\n",
    "    result_type=\"expand\")"
   ]
  },
  {
   "cell_type": "code",
   "execution_count": null,
   "id": "6008ef0a",
   "metadata": {},
   "outputs": [],
   "source": [
    "lsoa_enrolment_counts = pd.concat([lsoa_enrolment_counts.drop(columns=['Speciality']), speciality_indicators], axis=1)\n",
    "print(\"\\n\".join(lsoa_enrolment_counts.columns))\n",
    "lsoa_enrolment_counts.shape"
   ]
  },
  {
   "cell_type": "markdown",
   "id": "f45cb9d0",
   "metadata": {},
   "source": [
    "#### Add count and speciality information to enrolment areas"
   ]
  },
  {
   "cell_type": "code",
   "execution_count": null,
   "id": "4ea4ba86",
   "metadata": {
    "scrolled": true
   },
   "outputs": [],
   "source": [
    "enrolment_lsoas = lsoa.merge(lsoa_enrolment_counts, how='left', on='Boundary Code')\n",
    "enrolment_lsoas['N Participants'] = enrolment_lsoas['N Participants'].fillna(0)\n",
    "enrolment_lsoas['N Studies'] = enrolment_lsoas['N Studies'].fillna(0)\n",
    "enrolment_lsoas['N per 10k'] = np.floor((enrolment_lsoas['N Participants'] / enrolment_lsoas['N Population'] * 10000.0))\n",
    "enrolment_lsoas['N per 10k Need-Adjusted'] = np.floor((enrolment_lsoas['N Participants'] / (enrolment_lsoas['Average Prevalence'] * enrolment_lsoas['N Population']) * 10000.0))\n",
    "\n",
    "for column in enrolment_lsoas.columns:\n",
    "    if column.endswith('[Speciality]'):\n",
    "        enrolment_lsoas[column] = enrolment_lsoas[column].fillna(0)\n",
    "\n",
    "print(\"\\n\".join(enrolment_lsoas.columns))\n",
    "enrolment_lsoas.shape"
   ]
  },
  {
   "cell_type": "code",
   "execution_count": null,
   "id": "6c602f99",
   "metadata": {},
   "outputs": [],
   "source": [
    "# enrolment_lsoas.plot.line(y=['N per 10k Need-Adjusted', 'N per 10k Need-Adjusted Actual'])"
   ]
  },
  {
   "cell_type": "code",
   "execution_count": null,
   "id": "d883d6bd",
   "metadata": {},
   "outputs": [],
   "source": [
    "columns = set(enrolment_lsoas.columns)"
   ]
  },
  {
   "cell_type": "markdown",
   "id": "b83c1094",
   "metadata": {},
   "source": [
    "#### Add region indicator to enrolment areas"
   ]
  },
  {
   "cell_type": "code",
   "execution_count": null,
   "id": "12577683",
   "metadata": {},
   "outputs": [],
   "source": [
    "enrolment_lsoas.insert(enrolment_lsoas.shape[1], 'Region', '')\n",
    "enrolment_lsoas.loc[enrolment_lsoas['Boundary Code'].isin(lsoa_m25_polygons['Boundary Code'].unique()), 'Region'] = 'M25'"
   ]
  },
  {
   "cell_type": "code",
   "execution_count": null,
   "id": "9eab5ba7",
   "metadata": {},
   "outputs": [],
   "source": [
    "enrolment_lsoas = gpd.GeoDataFrame(\n",
    "    enrolment_lsoas.merge(lsoa_polygons.drop(columns=[\"Boundary Name\"]), how='inner', on='Boundary Code'),\n",
    "    crs='EPSG:27700',\n",
    "    geometry=\"Boundary Polygon\")"
   ]
  },
  {
   "cell_type": "code",
   "execution_count": null,
   "id": "50fa5c14",
   "metadata": {},
   "outputs": [],
   "source": [
    "enrolment_lsoas.dtypes"
   ]
  },
  {
   "cell_type": "code",
   "execution_count": null,
   "id": "a686ed4a",
   "metadata": {},
   "outputs": [],
   "source": [
    "save_enrolment_polygons = False"
   ]
  },
  {
   "cell_type": "code",
   "execution_count": null,
   "id": "b70b07ad",
   "metadata": {},
   "outputs": [],
   "source": [
    "if save_enrolment_polygons:\n",
    "    enrolment_lsoa_polygons = enrolment_lsoas.drop(columns=[\"Boundary Centroid\"])\n",
    "    enrolment_lsoa_polygons.to_file(\"enrolment_lsoa_polygons.gpkg\", driver='GPKG', layer='enrolment_lsoa_polygons')  "
   ]
  },
  {
   "cell_type": "markdown",
   "id": "02d6e70d",
   "metadata": {},
   "source": [
    "#### Randomly reshuffle enrolment areas"
   ]
  },
  {
   "cell_type": "code",
   "execution_count": null,
   "id": "96feee21",
   "metadata": {},
   "outputs": [],
   "source": [
    "enrolment_lsoas = enrolment_lsoas.sample(frac=1, random_state=0x80728334).reset_index(drop=True)"
   ]
  },
  {
   "cell_type": "markdown",
   "id": "78e03b86",
   "metadata": {},
   "source": [
    "#### Define data subsets and collect stats: enrolment vs no enrolment and without and with QOF data"
   ]
  },
  {
   "cell_type": "code",
   "execution_count": null,
   "id": "3bfa915b",
   "metadata": {},
   "outputs": [],
   "source": [
    "enrolment_lsoas_eq_0 = enrolment_lsoas[enrolment_lsoas['N Participants'] == 0]\n",
    "enrolment_lsoas_ge_1 = enrolment_lsoas[enrolment_lsoas['N Participants'] >= 1]"
   ]
  },
  {
   "cell_type": "code",
   "execution_count": null,
   "id": "340910b6",
   "metadata": {},
   "outputs": [],
   "source": [
    "lsoa_stats.n_without_participants = enrolment_lsoas_eq_0.shape[0]\n",
    "lsoa_stats.n_with_participants = enrolment_lsoas_ge_1.shape[0]\n",
    "lsoa_stats.n_with_participants_sum = int(enrolment_lsoas_ge_1['N Participants'].sum())\n",
    "\n",
    "assert lsoa_stats.n_initial == (lsoa_stats.n_with_participants + lsoa_stats.n_without_participants), \"Inconsistency bewteen LSOAs with participants and without.\""
   ]
  },
  {
   "cell_type": "code",
   "execution_count": null,
   "id": "0c33aebc",
   "metadata": {},
   "outputs": [],
   "source": [
    "lsoa_stats.n_greater_london_initial = enrolment_lsoas[enrolment_lsoas['Region'] == \"M25\"].shape[0]\n",
    "lsoa_stats.n_greater_london_without_participants = enrolment_lsoas[(enrolment_lsoas['Region'] == \"M25\") & (enrolment_lsoas['N Participants'] == 0)].shape[0]\n",
    "lsoa_stats.n_greater_london_with_participants = enrolment_lsoas[(enrolment_lsoas['Region'] == \"M25\") & (enrolment_lsoas['N Participants'] > 0)].shape[0]\n",
    "lsoa_stats.n_greater_london_with_participants_sum = int(enrolment_lsoas[(enrolment_lsoas['Region'] == \"M25\") & (enrolment_lsoas['N Participants'] > 0)]['N Participants'].sum())"
   ]
  },
  {
   "cell_type": "code",
   "execution_count": null,
   "id": "43a40666",
   "metadata": {},
   "outputs": [],
   "source": [
    "enrolment_lsoas_gp = enrolment_lsoas.dropna(subset=['Average Prevalence'])"
   ]
  },
  {
   "cell_type": "code",
   "execution_count": null,
   "id": "e7a486d9",
   "metadata": {},
   "outputs": [],
   "source": [
    "enrolment_lsoas_gp_eq_0 = enrolment_lsoas_gp[enrolment_lsoas_gp['N Participants'] == 0]\n",
    "enrolment_lsoas_gp_ge_1 = enrolment_lsoas_gp[enrolment_lsoas_gp['N Participants'] >= 1]"
   ]
  },
  {
   "cell_type": "code",
   "execution_count": null,
   "id": "fd40d209",
   "metadata": {},
   "outputs": [],
   "source": [
    "lsoa_stats.n_gp_initial = enrolment_lsoas_gp.shape[0]\n",
    "lsoa_stats.n_gp_without_participants = enrolment_lsoas_gp_eq_0.shape[0]\n",
    "lsoa_stats.n_gp_with_participants = enrolment_lsoas_gp_ge_1.shape[0]\n",
    "lsoa_stats.n_gp_with_participants_sum = int(enrolment_lsoas_gp_ge_1['N Participants'].sum())"
   ]
  },
  {
   "cell_type": "code",
   "execution_count": null,
   "id": "b81191e0",
   "metadata": {},
   "outputs": [],
   "source": [
    "lsoa_stats.n_gp_greater_london_initial = enrolment_lsoas_gp[enrolment_lsoas_gp['Region'] == \"M25\"].shape[0]\n",
    "lsoa_stats.n_gp_greater_london_without_participants = enrolment_lsoas_gp[(enrolment_lsoas_gp['Region'] == \"M25\") & (enrolment_lsoas_gp['N Participants'] == 0)].shape[0]\n",
    "lsoa_stats.n_gp_greater_london_with_participants = enrolment_lsoas_gp[(enrolment_lsoas_gp['Region'] == \"M25\") & (enrolment_lsoas_gp['N Participants'] > 0)].shape[0]\n",
    "lsoa_stats.n_gp_greater_london_with_participants_sum = int(enrolment_lsoas_gp[(enrolment_lsoas_gp['Region'] == \"M25\") & (enrolment_lsoas_gp['N Participants'] > 0)]['N Participants'].sum())"
   ]
  },
  {
   "cell_type": "code",
   "execution_count": null,
   "id": "19b03a0a",
   "metadata": {},
   "outputs": [],
   "source": [
    "def save_namespace(ns, name, file_path):\n",
    "    ns_dict = vars(ns)\n",
    "    \n",
    "    index = list(ns_dict.keys())\n",
    "    values = []\n",
    "    \n",
    "    for key in index:\n",
    "        values.append(int(ns_dict[key]))\n",
    "    \n",
    "    ns_df = pd.DataFrame(values, index=index, columns=[name])\n",
    "    ns_df.to_csv(file_path + \".csv\")\n",
    "    "
   ]
  },
  {
   "cell_type": "code",
   "execution_count": null,
   "id": "c9b75b63",
   "metadata": {},
   "outputs": [],
   "source": [
    "stats_dir = output_dir"
   ]
  },
  {
   "cell_type": "code",
   "execution_count": null,
   "id": "86660238",
   "metadata": {},
   "outputs": [],
   "source": [
    "save_namespace(lsoa_stats, \"lsoas\", os.path.join(stats_dir, \"lsoa_stats\"))"
   ]
  },
  {
   "cell_type": "code",
   "execution_count": null,
   "id": "3ee52474",
   "metadata": {},
   "outputs": [],
   "source": [
    "save_namespace(enrolment_stats, \"enrolments\", os.path.join(stats_dir, \"enrolment_stats\"))"
   ]
  },
  {
   "cell_type": "markdown",
   "id": "cd5e1d53",
   "metadata": {},
   "source": [
    "#### Prepare regression models"
   ]
  },
  {
   "cell_type": "code",
   "execution_count": null,
   "id": "c707e59b",
   "metadata": {},
   "outputs": [],
   "source": [
    "identifier_map = {\n",
    "    \"Index of Multiple Deprivation (IMD)\": \"imd\",\n",
    "    \"Health Deprivation and Disability Domain\": \"health\",\n",
    "    \"Living Environment Deprivation Domain\": \"environment\",\n",
    "    \"Education, Skills and Training Domain\": \"education\",\n",
    "    \"Income Deprivation Domain\": \"income\",\n",
    "    \"Employment Deprivation Domain\": \"employment\",\n",
    "    \"Crime Domain\": \"crime\",\n",
    "    \"Barriers to Housing and Services Domain\": \"housing_barriers\",\n",
    "    \"Income Deprivation Affecting Children Index (IDACI)\": \"income_affecting_children\",\n",
    "    \"Income Deprivation Affecting Older People Index (IDAOPI)\": \"income_affecting_older_people\"\n",
    "}"
   ]
  },
  {
   "cell_type": "code",
   "execution_count": null,
   "id": "b1a6efd1",
   "metadata": {},
   "outputs": [],
   "source": [
    "def standardise_transform(response, variable_name):\n",
    "    transform = TransformFunction()\n",
    "    transform.identifier_map.update(identifier_map)\n",
    "    transform.select = [response, variable_name]\n",
    "    transform.apply_to.add(variable_name)\n",
    "    transform.function = lambda x: (x - np.mean(x)) / np.std(x)\n",
    "    return transform"
   ]
  },
  {
   "cell_type": "code",
   "execution_count": null,
   "id": "07fa06b1",
   "metadata": {},
   "outputs": [],
   "source": [
    "def select_transform(*variable_names):\n",
    "    transform = TransformFunction()\n",
    "    transform.identifier_map.update(identifier_map)\n",
    "    transform.select.extend(variable_names)\n",
    "    return transform"
   ]
  },
  {
   "cell_type": "code",
   "execution_count": null,
   "id": "e6a72ddc",
   "metadata": {},
   "outputs": [],
   "source": [
    "for variable_name in list(deprivation_indices):\n",
    "    print(\"{}: [{:.2f}, {:.2f}]\".format(variable_name, enrolment_lsoas[variable_name].min(), enrolment_lsoas[variable_name].max()))"
   ]
  },
  {
   "cell_type": "code",
   "execution_count": null,
   "id": "1241d017",
   "metadata": {},
   "outputs": [],
   "source": [
    "# Define suitable x ranges for the deprivation data\n",
    "\n",
    "deprivation_params = {\n",
    "\"N per 10k\":\n",
    "{},\n",
    "    \n",
    "\"Index of Multiple Deprivation (IMD)\":\n",
    "{ \"x_scale\": alt.Scale(domain=[0, 100]), \"x_step\": 1.0},\n",
    "    \n",
    "\"Income Deprivation Domain\":\n",
    "{ \"x_scale\": alt.Scale(domain=[0, 1]), \"x_step\": 0.01},\n",
    "    \n",
    "\"Employment Deprivation Domain\":\n",
    "{ \"x_scale\": alt.Scale(domain=[0, 1]), \"x_step\": 0.01},\n",
    "    \n",
    "\"Education, Skills and Training Domain\":\n",
    "{ \"x_scale\": alt.Scale(domain=[0, 100]), \"x_step\": 1.0},\n",
    "    \n",
    "\"Health Deprivation and Disability Domain\":\n",
    "{ \"x_scale\": alt.Scale(domain=[-4, 4]), \"x_step\": 0.08},\n",
    "    \n",
    "\"Crime Domain\":\n",
    "{ \"x_scale\": alt.Scale(domain=[-4, 4]), \"x_step\": 0.08},\n",
    "    \n",
    "\"Barriers to Housing and Services Domain\":\n",
    "{ \"x_scale\": alt.Scale(domain=[0, 100]), \"x_step\": 1.0},\n",
    "    \n",
    "\"Living Environment Deprivation Domain\":\n",
    "{ \"x_scale\": alt.Scale(domain=[0, 100]), \"x_step\": 1.0},\n",
    "    \n",
    "\"Income Deprivation Affecting Children Index (IDACI)\":\n",
    "{ \"x_scale\": alt.Scale(domain=[0, 1]), \"x_step\": 0.01},\n",
    "    \n",
    "\"Income Deprivation Affecting Older People Index (IDAOPI)\":\n",
    "{ \"x_scale\": alt.Scale(domain=[0, 1]), \"x_step\": 0.01},\n",
    "}"
   ]
  },
  {
   "cell_type": "code",
   "execution_count": null,
   "id": "3ea83502",
   "metadata": {},
   "outputs": [],
   "source": [
    "model = 'poisson'\n",
    "n_samples=3000000\n",
    "n_burn_in_samples=1000000\n",
    "\n",
    "regression_tasks = [Regression(None, \n",
    "               transforms=[standardise_transform(\"N per 10k\", variable_name)], \n",
    "               model=model, \n",
    "               n_samples=n_samples, n_burn_in_samples=n_burn_in_samples, \n",
    "               prior='ridge',\n",
    "               display_odds_ratio=True,\n",
    "               basename=identifier_map[variable_name],\n",
    "               test_split=None) for variable_name in list(deprivation_indices)]\n",
    "\n",
    "regression_tasks_need_adjusted = [Regression(None,\n",
    "               transforms=[standardise_transform(\"N per 10k Need-Adjusted\", variable_name)], \n",
    "               model=model, \n",
    "               n_samples=n_samples, n_burn_in_samples=n_burn_in_samples, \n",
    "               prior='ridge',\n",
    "               display_odds_ratio=True,\n",
    "               basename=identifier_map[variable_name] + \"_adjusted\",\n",
    "               test_split=None) for variable_name in list(deprivation_indices)]\n",
    "\n",
    "def akde_arguments(params):\n",
    "    scale = params[\"x_scale\"].domain\n",
    "    steps = (scale[1] - scale[0]) / params[\"x_step\"]\n",
    "    \n",
    "    result = {\n",
    "        \"estimation_range\": scale,\n",
    "        \"estimation_steps\": math.ceil(steps * 2.5)\n",
    "    }\n",
    "    \n",
    "    return result\n",
    "\n",
    "dist_tasks = [DistributionTask(engine, \n",
    "                   transforms=[select_transform(variable_name)],\n",
    "                   basename='_'.join(variable_name.lower().split()) + \"_akde\",\n",
    "                   gamma=lambda x: math.ceil(math.pow(x, 1.0 / 2.0)), # lambda x: x, # math.ceil(math.pow(x, 1.0 / 2.0)),\n",
    "                   estimation_method=\"akde\", # \"kde\",\n",
    "                   **akde_arguments(deprivation_params[variable_name]))\n",
    "    \n",
    "              for variable_name in list(deprivation_indices)\n",
    "]\n",
    "\n",
    "histogram_tasks = [\n",
    "    RenderHistogram(transforms=[select_transform(variable_name)],\n",
    "                    basename='_'.join(variable_name.lower().split()) + \"_histograms.html\",\n",
    "                    **(deprivation_params[variable_name]))\n",
    "    \n",
    "    for variable_name in list(deprivation_indices)\n",
    "]"
   ]
  },
  {
   "cell_type": "markdown",
   "id": "c9e21002",
   "metadata": {},
   "source": [
    "#### Lookup UCLH location for distance matching"
   ]
  },
  {
   "cell_type": "code",
   "execution_count": null,
   "id": "9c1e16e5",
   "metadata": {},
   "outputs": [],
   "source": [
    "uclh_locations, _ = postcodes.lookup_postcodes(\n",
    "    pd.Series([\"NW1 2BU\"]), \n",
    "    lsoa_field='Boundary Code',\n",
    "    wgs84_fields=None)\n",
    "uclh_location = uclh_locations.loc[0, \"OSGB36 Easting\"], uclh_locations.loc[0, \"OSGB36 Northing\"]\n",
    "uclh_location"
   ]
  },
  {
   "cell_type": "markdown",
   "id": "635e11dd",
   "metadata": {},
   "source": [
    "#### Match distances for areas in England with no enrolment to areas with at least one enrolment"
   ]
  },
  {
   "cell_type": "code",
   "execution_count": null,
   "id": "dd55347f",
   "metadata": {},
   "outputs": [],
   "source": [
    "match_distances = MatchDistances(Domain('England, N >= 1', enrolment_lsoas_ge_1), uclh_location, \"Boundary Centroid\")"
   ]
  },
  {
   "cell_type": "code",
   "execution_count": null,
   "id": "c048e794",
   "metadata": {
    "scrolled": true
   },
   "outputs": [],
   "source": [
    "contexts = run_domain_tasks([Domain('England, N == 0', enrolment_lsoas_eq_0)], [match_distances], output_dir)"
   ]
  },
  {
   "cell_type": "code",
   "execution_count": null,
   "id": "f15c2309",
   "metadata": {},
   "outputs": [],
   "source": [
    "match_path = os.path.join(output_dir, \"england,_n_==_0_matched.csv\")\n",
    "enrolment_lsoas_eq_0_matched = pd.read_csv(match_path, index_col=0, dtype={'Region': 'str'})"
   ]
  },
  {
   "cell_type": "code",
   "execution_count": null,
   "id": "68e13682",
   "metadata": {},
   "outputs": [],
   "source": [
    "enrolment_lsoas_eq_0_matched = gpd.GeoDataFrame(enrolment_lsoas_eq_0_matched)"
   ]
  },
  {
   "cell_type": "code",
   "execution_count": null,
   "id": "4d4c995d",
   "metadata": {},
   "outputs": [],
   "source": [
    "enrolment_lsoas_eq_0_matched.dtypes"
   ]
  },
  {
   "cell_type": "code",
   "execution_count": null,
   "id": "eb07ed34",
   "metadata": {},
   "outputs": [],
   "source": [
    "enrolment_lsoas_eng = pd.concat([enrolment_lsoas_ge_1, enrolment_lsoas_eq_0_matched], axis=0, ignore_index=True)"
   ]
  },
  {
   "cell_type": "code",
   "execution_count": null,
   "id": "a1ee546c",
   "metadata": {},
   "outputs": [],
   "source": [
    "regress_only_ge_1 = False"
   ]
  },
  {
   "cell_type": "code",
   "execution_count": null,
   "id": "fdff2d4c",
   "metadata": {},
   "outputs": [],
   "source": [
    "domain_eng = Domain('England', enrolment_lsoas_ge_1 if regress_only_ge_1 else enrolment_lsoas_eng)"
   ]
  },
  {
   "cell_type": "code",
   "execution_count": null,
   "id": "7895c556",
   "metadata": {},
   "outputs": [],
   "source": [
    "domain_lon = Domain('London', enrolment_lsoas_ge_1[enrolment_lsoas_ge_1['Region'] == 'M25'] \\\n",
    "                              if regress_only_ge_1 else \\\n",
    "                              enrolment_lsoas[enrolment_lsoas['Region'] == 'M25'])"
   ]
  },
  {
   "cell_type": "code",
   "execution_count": null,
   "id": "8a871744",
   "metadata": {},
   "outputs": [],
   "source": [
    "domain_eng.dataset.columns"
   ]
  },
  {
   "cell_type": "markdown",
   "id": "b46ca6c0",
   "metadata": {},
   "source": [
    "#### Collect stats about regression models"
   ]
  },
  {
   "cell_type": "code",
   "execution_count": null,
   "id": "de2e9c81",
   "metadata": {},
   "outputs": [],
   "source": [
    "regression_distributions = []\n",
    "\n",
    "for variable_name in [\"N per 10k\", \"N per 10k Need-Adjusted\"]:\n",
    "    \n",
    "    for domain in [domain_lon, domain_eng]:\n",
    "        m = np.mean(domain.dataset[variable_name])\n",
    "        v = np.var(domain.dataset[variable_name])\n",
    "        \n",
    "        regression_distributions.append((variable_name, domain.name, m, v))\n",
    "\n",
    "regression_distributions = pd.DataFrame(regression_distributions, columns=[\"Response\", \"Region\", \"Mean\", \"Variance\"])\n",
    "regression_distributions"
   ]
  },
  {
   "cell_type": "markdown",
   "id": "24da195a",
   "metadata": {},
   "source": [
    "#### Regression: N per 10k vs Deprivation Indices"
   ]
  },
  {
   "cell_type": "code",
   "execution_count": null,
   "id": "83b65381",
   "metadata": {
    "scrolled": true
   },
   "outputs": [],
   "source": [
    "contexts = run_domain_tasks([domain_eng, domain_lon], regression_tasks, output_dir)"
   ]
  },
  {
   "cell_type": "code",
   "execution_count": null,
   "id": "213e119e",
   "metadata": {},
   "outputs": [],
   "source": [
    "match_distances = MatchDistances(Domain('England, N >= 1', enrolment_lsoas_gp_ge_1), uclh_location, \"Boundary Centroid\", \"matched_gp\")"
   ]
  },
  {
   "cell_type": "code",
   "execution_count": null,
   "id": "943db8b5",
   "metadata": {
    "scrolled": true
   },
   "outputs": [],
   "source": [
    "contexts = run_domain_tasks([Domain('England, N == 0', enrolment_lsoas_gp_eq_0)], [match_distances], output_dir)"
   ]
  },
  {
   "cell_type": "code",
   "execution_count": null,
   "id": "6c7304c8",
   "metadata": {
    "scrolled": true
   },
   "outputs": [],
   "source": [
    "match_path = os.path.join(output_dir, \"england,_n_==_0_matched_gp.csv\")\n",
    "enrolment_lsoas_gp_eq_0_matched = pd.read_csv(match_path, index_col=0, dtype={'Region': 'str'})"
   ]
  },
  {
   "cell_type": "code",
   "execution_count": null,
   "id": "19688ab5",
   "metadata": {},
   "outputs": [],
   "source": [
    "enrolment_lsoas_gp_eq_0_matched = gpd.GeoDataFrame(enrolment_lsoas_gp_eq_0_matched)"
   ]
  },
  {
   "cell_type": "code",
   "execution_count": null,
   "id": "09749d98",
   "metadata": {},
   "outputs": [],
   "source": [
    "enrolment_lsoas_eng_gp = pd.concat([enrolment_lsoas_gp_ge_1, enrolment_lsoas_gp_eq_0_matched], axis=0, ignore_index=True)"
   ]
  },
  {
   "cell_type": "code",
   "execution_count": null,
   "id": "530311da",
   "metadata": {},
   "outputs": [],
   "source": [
    "domain_eng_gp = Domain('England', enrolment_lsoas_eng_gp if not regress_only_ge_1 else enrolment_lsoas_gp_ge_1)"
   ]
  },
  {
   "cell_type": "code",
   "execution_count": null,
   "id": "c43c9acc",
   "metadata": {},
   "outputs": [],
   "source": [
    "domain_lon_gp = Domain('London', enrolment_lsoas_eng_gp[enrolment_lsoas_eng_gp['Region'] == 'M25'] \\\n",
    "                                 if not regress_only_ge_1 else \\\n",
    "                                 enrolment_lsoas_gp_ge_1[enrolment_lsoas_gp_ge_1['Region'] == 'M25'])"
   ]
  },
  {
   "cell_type": "code",
   "execution_count": null,
   "id": "1344e282",
   "metadata": {},
   "outputs": [],
   "source": [
    "domain_lon_gp.dataset['N Participants'].sum()"
   ]
  },
  {
   "cell_type": "markdown",
   "id": "58e28eb6",
   "metadata": {},
   "source": [
    "#### Regression: N per 10k Need-Adjusted vs Deprivation Indices"
   ]
  },
  {
   "cell_type": "code",
   "execution_count": null,
   "id": "92431423",
   "metadata": {},
   "outputs": [],
   "source": [
    "contexts = run_domain_tasks([domain_lon_gp, domain_eng_gp], regression_tasks_need_adjusted, output_dir)"
   ]
  },
  {
   "cell_type": "code",
   "execution_count": null,
   "id": "e27b04dc",
   "metadata": {},
   "outputs": [],
   "source": [
    "domain_lon.dataset = domain_lon.dataset.astype({'N per 10k': 'int32'})"
   ]
  },
  {
   "cell_type": "code",
   "execution_count": null,
   "id": "222ee5d0",
   "metadata": {},
   "outputs": [],
   "source": [
    "domain_eng.dataset = domain_eng.dataset.astype({'N per 10k': 'int32'})"
   ]
  },
  {
   "cell_type": "code",
   "execution_count": null,
   "id": "48596c49",
   "metadata": {},
   "outputs": [],
   "source": [
    "domain_eng.dataset.iloc[:, 1].to_numpy().reshape((-1, 1)).shape"
   ]
  },
  {
   "cell_type": "markdown",
   "id": "6cca65a3",
   "metadata": {},
   "source": [
    "#### Compute densities of sub data sets"
   ]
  },
  {
   "cell_type": "code",
   "execution_count": null,
   "id": "3b2644eb",
   "metadata": {},
   "outputs": [],
   "source": [
    "# For the Mann Whitney U test the order of the domains matters: The statistic is computed relative to the\n",
    "# first domain.\n",
    "\n",
    "domains_eng = [\n",
    "\n",
    "    Domain('England, N >= 1', enrolment_lsoas_ge_1),\n",
    "    Domain('England, N == 0', enrolment_lsoas_eq_0_matched),\n",
    "]\n",
    "\n",
    "domains_lon = [\n",
    "    Domain('London, N >= 1', enrolment_lsoas_ge_1[enrolment_lsoas_ge_1['Region'] == 'M25']),\n",
    "    Domain('London, N == 0', enrolment_lsoas_eq_0[enrolment_lsoas_eq_0['Region'] == 'M25']),\n",
    "]"
   ]
  },
  {
   "cell_type": "code",
   "execution_count": null,
   "id": "d2eff25f",
   "metadata": {},
   "outputs": [],
   "source": [
    "distribution_eng = Domain('England', pd.concat((domains_eng[0].dataset, domains_eng[1].dataset)))\n",
    "distribution_lon = Domain('London', pd.concat((domains_lon[0].dataset, domains_lon[1].dataset)))"
   ]
  },
  {
   "cell_type": "code",
   "execution_count": null,
   "id": "a3f732bd",
   "metadata": {},
   "outputs": [],
   "source": [
    "densities_dir = os.path.join(output_dir, \"densities_akde\")\n",
    "os.makedirs(densities_dir, exist_ok=False)"
   ]
  },
  {
   "cell_type": "code",
   "execution_count": null,
   "id": "b899df99",
   "metadata": {},
   "outputs": [],
   "source": [
    "contexts = run_domain_tasks(domains_lon + domains_eng, dist_tasks, densities_dir)"
   ]
  },
  {
   "cell_type": "markdown",
   "id": "5a7cb20c",
   "metadata": {},
   "source": [
    "#### Compute deprivation index ranges"
   ]
  },
  {
   "cell_type": "code",
   "execution_count": null,
   "id": "4cb876f1",
   "metadata": {},
   "outputs": [],
   "source": [
    "range_eng = []\n",
    "range_lon = []\n",
    "range_percentiles = [0.005, 0.995]\n",
    "\n",
    "for variable_name in list(deprivation_indices):\n",
    "    value      = np.nanquantile(distribution_eng.dataset[variable_name], range_percentiles).tolist()\n",
    "    value_ge_1 = np.nanquantile(domains_eng[0].dataset[variable_name], range_percentiles).tolist()\n",
    "    value_eq_0 = np.nanquantile(domains_eng[1].dataset[variable_name], range_percentiles).tolist()\n",
    "    range_eng.append((variable_name, *value, *value_ge_1, *value_eq_0))\n",
    "    \n",
    "    value      = np.nanquantile(distribution_lon.dataset[variable_name], range_percentiles).tolist()\n",
    "    value_ge_1 = np.nanquantile(domains_lon[0].dataset[variable_name], range_percentiles).tolist()\n",
    "    value_eq_0 = np.nanquantile(domains_lon[1].dataset[variable_name], range_percentiles).tolist()\n",
    "    range_lon.append((variable_name, *value, *value_ge_1, *value_eq_0))\n",
    "\n",
    "range_eng = pd.DataFrame(range_eng, columns=['term', 'c005', 'c995', 'c005_ge_1', 'c995_ge_1', 'c005_eq_0', 'c995_eq_0'])\n",
    "range_lon = pd.DataFrame(range_lon, columns=['term', 'c005', 'c995', 'c005_ge_1', 'c995_ge_1', 'c005_eq_0', 'c995_eq_0'])"
   ]
  },
  {
   "cell_type": "code",
   "execution_count": null,
   "id": "6fcd6338",
   "metadata": {},
   "outputs": [],
   "source": [
    "range_eng.to_csv(os.path.join(output_dir, 'range_eng.csv'))\n",
    "range_eng"
   ]
  },
  {
   "cell_type": "code",
   "execution_count": null,
   "id": "e4f9b17d",
   "metadata": {
    "scrolled": false
   },
   "outputs": [],
   "source": [
    "range_lon.to_csv(os.path.join(output_dir, 'range_lon.csv'))\n",
    "range_lon"
   ]
  },
  {
   "cell_type": "markdown",
   "id": "40cc7ac4",
   "metadata": {},
   "source": [
    "#### Compute statistic tests to compare distributional means of sub data sets"
   ]
  },
  {
   "cell_type": "code",
   "execution_count": null,
   "id": "b2a11d97",
   "metadata": {},
   "outputs": [],
   "source": [
    "test_transform = TransformFunction()\n",
    "test_transform.select = list(deprivation_indices)\n",
    "\n",
    "test_alpha = 0.05\n",
    "test_task = TestTask(\n",
    "    basename=\"tests\",\n",
    "    alpha=test_alpha,\n",
    "    alpha_corrected=test_alpha / len(deprivation_indices),\n",
    "    disjoint_test=False,\n",
    "    test_type=\"mannwhitneyu\", # \"ks\" \"t\"\n",
    "    test_alternative=\"two-sided\",\n",
    "    transforms=[test_transform]\n",
    ")"
   ]
  },
  {
   "cell_type": "code",
   "execution_count": null,
   "id": "add12173",
   "metadata": {},
   "outputs": [],
   "source": [
    "contexts = run_domain_tasks(domains_lon, [test_task], output_dir)\n",
    "os.rename(os.path.join(output_dir, 'test_results.csv'), os.path.join(output_dir, 'test_results_london_mwu.csv'))\n",
    "contexts = run_domain_tasks(domains_eng, [test_task], output_dir)\n",
    "os.rename(os.path.join(output_dir, 'test_results.csv'), os.path.join(output_dir, 'test_results_england_mwu.csv'))"
   ]
  },
  {
   "cell_type": "markdown",
   "id": "db0e2b3f",
   "metadata": {},
   "source": [
    "#### Plot distributions with all information for London and England"
   ]
  },
  {
   "cell_type": "code",
   "execution_count": null,
   "id": "c3668d03",
   "metadata": {},
   "outputs": [],
   "source": [
    "converters = {\n",
    "    \"values\": lambda value: eval(value),\n",
    "    \"density\": lambda value: eval(value),\n",
    "    \"frequencies\": lambda value: eval(value)\n",
    "}"
   ]
  },
  {
   "cell_type": "code",
   "execution_count": null,
   "id": "bad21d43",
   "metadata": {},
   "outputs": [],
   "source": [
    "def find_files(directory, suffix=None, ext=\".csv\"):\n",
    "    \n",
    "    files = [f for f in os.listdir(directory) if os.path.isfile(os.path.join(directory, f)) and f.endswith(ext)]\n",
    "    files = sorted(files)\n",
    "    \n",
    "    result = []\n",
    "    \n",
    "    for file in files:\n",
    "        path = os.path.join(directory, file)\n",
    "        file_name, _ = os.path.splitext(file)\n",
    "        \n",
    "        if suffix is not None and not file_name.endswith(suffix):\n",
    "            continue\n",
    "        \n",
    "        result.append(path)\n",
    "    \n",
    "    return result"
   ]
  },
  {
   "cell_type": "code",
   "execution_count": null,
   "id": "5c76e841",
   "metadata": {},
   "outputs": [],
   "source": [
    "def read_distributions(directory):\n",
    "    file_paths = find_files(directory, ext=\".csv\")\n",
    "    distributions = [pd.read_csv(csv_file, index_col=0, converters=converters) for csv_file in file_paths]\n",
    "    distributions = pd.concat(distributions, ignore_index=True)\n",
    "    return distributions"
   ]
  },
  {
   "cell_type": "code",
   "execution_count": null,
   "id": "c4bc9d29",
   "metadata": {},
   "outputs": [],
   "source": [
    "label_map = {\n",
    "    \"Index of Multiple Deprivation (IMD)\": \"Index of Multiple\\nDeprivation (IMD)\",\n",
    "    \"Health Deprivation and Disability\": \"Health Deprivation\\nand Disability\",\n",
    "    \"Living Environment Deprivation\": \"Living Environment\\nDeprivation\",\n",
    "    \"Education, Skills and Training\": \"Education, Skills\\nand Training\",\n",
    "    \"Income Deprivation\": \"Income Deprivation\",\n",
    "    \"Employment Deprivation\": \"Employment Deprivation\",\n",
    "    \"Crime\": \"Crime\",\n",
    "    \"Barriers to Housing and Services\": \"Barriers to Housing\\nand Services\",\n",
    "    \"Income Deprivation Affecting Children Index (IDACI)\": \"Income Deprivation Affecting\\nChildren Index (IDACI)\",\n",
    "    \"Income Deprivation Affecting Older People Index (IDAOPI)\": \"Income Deprivation Affecting\\nOlder People Index (IDAOPI)\"\n",
    "}"
   ]
  },
  {
   "cell_type": "code",
   "execution_count": null,
   "id": "b988b283",
   "metadata": {},
   "outputs": [],
   "source": [
    "distributions = read_distributions(densities_dir)\n",
    "distributions = distributions.replace(to_replace=r'^@\"(.+?)( Domain)?\"$', value=r'\\g<1>', regex=True)\n",
    "distributions = distributions.replace(to_replace=label_map)\n",
    "distributions"
   ]
  },
  {
   "cell_type": "code",
   "execution_count": null,
   "id": "ca4fa9d2",
   "metadata": {},
   "outputs": [],
   "source": [
    "distributions_eng = distributions[(distributions['domain'] == \"England, N >= 1\") | \n",
    "                                  (distributions['domain'] == \"England, N == 0\")]\n",
    "distributions_lon = distributions[(distributions['domain'] == \"London, N >= 1\") | \n",
    "                                  (distributions['domain'] == \"London, N == 0\")]\n",
    "\n",
    "distribution_domains_eng = Domain('Distributions England', distributions_eng)\n",
    "distribution_domains_lon = Domain('Distributions London', distributions_lon)"
   ]
  },
  {
   "cell_type": "code",
   "execution_count": null,
   "id": "314c9ac8",
   "metadata": {},
   "outputs": [],
   "source": [
    "plot_sort_order = [\n",
    "    \"Index of Multiple Deprivation (IMD)\",\n",
    "    \"Barriers to Housing and Services\",\n",
    "    \"Crime\",\n",
    "    \"Education, Skills and Training\",\n",
    "    \"Employment Deprivation\",\n",
    "    \"Health Deprivation and Disability\",\n",
    "    \"Income Deprivation\",\n",
    "    \"Income Deprivation Affecting Children Index (IDACI)\",\n",
    "    \"Income Deprivation Affecting Older People Index (IDAOPI)\",\n",
    "    \"Living Environment Deprivation\"\n",
    "]\n",
    "\n",
    "plot_sort_order = [label_map[label] for label in plot_sort_order]"
   ]
  },
  {
   "cell_type": "code",
   "execution_count": null,
   "id": "d2302894",
   "metadata": {},
   "outputs": [],
   "source": [
    "test_results_lon = pd.read_csv(os.path.join(output_dir, \"test_results_london_mwu.csv\"), index_col=0)\n",
    "test_results_lon = test_results_lon.replace(to_replace=r'^@\"(.+?)( Domain)?\"$', value=r'\\g<1>', regex=True)\n",
    "test_results_lon = test_results_lon.replace(to_replace=label_map)\n",
    "\n",
    "plot_distributions = PlotDistributionsTask(\n",
    "    \"distributions_london_mwu.html\",\n",
    "    use_frequency_scale=True,\n",
    "    align_scales_across_plots=True,\n",
    "    align_scales_across_variants=False,\n",
    "    plot_field=\"term\",\n",
    "    plot_sort_order=plot_sort_order,\n",
    "    test_results=None, # test_results_lon,\n",
    "    grid_columns=2,\n",
    "    color_mapping={\n",
    "      \"London, N == 0\": \"#CDC134\",  # B2A72D F1F117 E64444 D8C300\n",
    "      \"London, N >= 1\": \"#36B28D\", # 32A683 A968E6\n",
    "    \n",
    "      \"England, N == 0\": \"#CDC134\",  # B2A72D F1F117 E64444 D8C300\n",
    "      \"England, N >= 1\": \"#36B28D\" # 32A683 A968E6\n",
    "    },\n",
    "    interpolate=\"monotone\",\n",
    "    legend_field=\"domain\",\n",
    "    legend_view_style=\"legend-view\",\n",
    "    y_title=\"Frequency\",\n",
    "    alpha_suffix=\", 2s\",\n",
    "    quartile_stroke_dash=[2, 1],\n",
    "    include_legend=False,\n",
    "    legend_concat_horizontally=False,\n",
    "    legend_padding_outer=1,\n",
    "    include_histograms=True,\n",
    "    include_rules=True,\n",
    "    significant_difference_color=\"#111111\",\n",
    "    insignificant_difference_color=\"#A62109\", #\"#DA2B0D\", #\"#DC462C\",\n",
    "    difference_label_align=\"left\",\n",
    "    difference_label_baseline=\"middle\",\n",
    "    difference_label_y=alt.Undefined,\n",
    "    difference_label_style=\"result-text\",\n",
    "    variant_order=[\"London, N == 0\", \"England, N == 0\", \"London, N >= 1\", \"England, N >= 1\"],\n",
    "    vega_config_paths={\"light\": os.path.join(data_dir, \"press-theme-light.json\"), \n",
    "                       \"dark\": os.path.join(data_dir, \"press-theme-dark.json\")})"
   ]
  },
  {
   "cell_type": "code",
   "execution_count": null,
   "id": "9032a5cb",
   "metadata": {
    "scrolled": false
   },
   "outputs": [],
   "source": [
    "contexts = run_domain_tasks([distribution_domains_lon], [plot_distributions], output_dir)"
   ]
  },
  {
   "cell_type": "code",
   "execution_count": null,
   "id": "ac6e70ed",
   "metadata": {},
   "outputs": [],
   "source": [
    "test_results_eng = pd.read_csv(os.path.join(output_dir, \"test_results_england_mwu.csv\"), index_col=0)\n",
    "test_results_eng = test_results_eng.replace(to_replace=r'^@\"(.+?)( Domain)?\"$', value=r'\\g<1>', regex=True)\n",
    "test_results_eng = test_results_eng.replace(to_replace=label_map)\n",
    "\n",
    "plot_distributions = PlotDistributionsTask(\n",
    "    \"distributions_england_mwu.html\",\n",
    "    use_frequency_scale=True,\n",
    "    align_scales_across_plots=True,\n",
    "    align_scales_across_variants=False,\n",
    "    plot_field=\"term\",\n",
    "    plot_sort_order=plot_sort_order,\n",
    "    test_results=None, # test_results_eng,\n",
    "    grid_columns=2,\n",
    "    color_mapping={\n",
    "      \"London, N == 0\": \"#CDC134\",  # B2A72D F1F117 E64444 D8C300\n",
    "      \"London, N >= 1\": \"#36B28D\", # 32A683 A968E6\n",
    "    \n",
    "      \"England, N == 0\": \"#CDC134\",  # B2A72D F1F117 E64444 D8C300\n",
    "      \"England, N >= 1\": \"#36B28D\" # 32A683 A968E6\n",
    "    },\n",
    "    interpolate=\"monotone\",\n",
    "    legend_field=\"domain\",\n",
    "    legend_view_style=\"legend-view\",\n",
    "    y_title=\"Frequency\",\n",
    "    alpha_suffix=\", 2s\",\n",
    "    quartile_stroke_dash=[2, 1],\n",
    "    include_legend=False,\n",
    "    legend_concat_horizontally=False,\n",
    "    legend_padding_outer=1,\n",
    "    include_histograms=True,\n",
    "    include_rules=True,\n",
    "    significant_difference_color=\"#111111\",\n",
    "    insignificant_difference_color=\"#A62109\", #\"#DA2B0D\", #\"#DC462C\",\n",
    "    difference_label_align=\"left\",\n",
    "    difference_label_baseline=\"middle\",\n",
    "    difference_label_y=alt.Undefined,\n",
    "    difference_label_style=\"result-text\",\n",
    "    variant_order=[\"London, N == 0\", \"England, N == 0\", \"London, N >= 1\", \"England, N >= 1\"],\n",
    "    vega_config_paths={\"light\": os.path.join(data_dir, \"press-theme-light.json\"), \n",
    "                       \"dark\": os.path.join(data_dir, \"press-theme-dark.json\")})"
   ]
  },
  {
   "cell_type": "code",
   "execution_count": null,
   "id": "9c5c498a",
   "metadata": {
    "scrolled": true
   },
   "outputs": [],
   "source": [
    "contexts = run_domain_tasks([distribution_domains_eng], [plot_distributions], output_dir)"
   ]
  },
  {
   "cell_type": "code",
   "execution_count": null,
   "id": "b412cf59",
   "metadata": {},
   "outputs": [],
   "source": []
  }
 ],
 "metadata": {
  "kernelspec": {
   "display_name": "Python 3 (ipykernel)",
   "language": "python",
   "name": "python3"
  },
  "language_info": {
   "codemirror_mode": {
    "name": "ipython",
    "version": 3
   },
   "file_extension": ".py",
   "mimetype": "text/x-python",
   "name": "python",
   "nbconvert_exporter": "python",
   "pygments_lexer": "ipython3",
   "version": "3.7.10"
  }
 },
 "nbformat": 4,
 "nbformat_minor": 5
}
